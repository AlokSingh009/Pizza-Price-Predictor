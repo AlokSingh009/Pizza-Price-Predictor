{
 "cells": [
  {
   "cell_type": "markdown",
   "id": "b5b63abb",
   "metadata": {},
   "source": [
    "# Pizza Price Prediction "
   ]
  },
  {
   "cell_type": "code",
   "execution_count": 1,
   "id": "8b0d37e4",
   "metadata": {},
   "outputs": [],
   "source": [
    "import numpy as np\n",
    "import pandas as pd\n",
    "import matplotlib.pyplot as plt\n",
    "import seaborn as sns\n",
    "%matplotlib inline\n",
    "\n",
    "import warnings\n",
    "warnings.filterwarnings(\"ignore\")"
   ]
  },
  {
   "cell_type": "code",
   "execution_count": 2,
   "id": "04910cdc",
   "metadata": {},
   "outputs": [],
   "source": [
    "df = pd.read_csv(\"pizza_v2.csv\")"
   ]
  },
  {
   "cell_type": "code",
   "execution_count": 3,
   "id": "c2838160",
   "metadata": {},
   "outputs": [
    {
     "data": {
      "text/html": [
       "<div>\n",
       "<style scoped>\n",
       "    .dataframe tbody tr th:only-of-type {\n",
       "        vertical-align: middle;\n",
       "    }\n",
       "\n",
       "    .dataframe tbody tr th {\n",
       "        vertical-align: top;\n",
       "    }\n",
       "\n",
       "    .dataframe thead th {\n",
       "        text-align: right;\n",
       "    }\n",
       "</style>\n",
       "<table border=\"1\" class=\"dataframe\">\n",
       "  <thead>\n",
       "    <tr style=\"text-align: right;\">\n",
       "      <th></th>\n",
       "      <th>company</th>\n",
       "      <th>price_rupiah</th>\n",
       "      <th>diameter</th>\n",
       "      <th>topping</th>\n",
       "      <th>variant</th>\n",
       "      <th>size</th>\n",
       "      <th>extra_sauce</th>\n",
       "      <th>extra_cheese</th>\n",
       "      <th>extra_mushrooms</th>\n",
       "    </tr>\n",
       "  </thead>\n",
       "  <tbody>\n",
       "    <tr>\n",
       "      <th>0</th>\n",
       "      <td>A</td>\n",
       "      <td>Rp235,000</td>\n",
       "      <td>22 inch</td>\n",
       "      <td>chicken</td>\n",
       "      <td>double_signature</td>\n",
       "      <td>jumbo</td>\n",
       "      <td>yes</td>\n",
       "      <td>yes</td>\n",
       "      <td>no</td>\n",
       "    </tr>\n",
       "    <tr>\n",
       "      <th>1</th>\n",
       "      <td>A</td>\n",
       "      <td>Rp198,000</td>\n",
       "      <td>20 inch</td>\n",
       "      <td>papperoni</td>\n",
       "      <td>double_signature</td>\n",
       "      <td>jumbo</td>\n",
       "      <td>yes</td>\n",
       "      <td>yes</td>\n",
       "      <td>no</td>\n",
       "    </tr>\n",
       "    <tr>\n",
       "      <th>2</th>\n",
       "      <td>A</td>\n",
       "      <td>Rp120,000</td>\n",
       "      <td>16 inch</td>\n",
       "      <td>mushrooms</td>\n",
       "      <td>double_signature</td>\n",
       "      <td>reguler</td>\n",
       "      <td>yes</td>\n",
       "      <td>yes</td>\n",
       "      <td>yes</td>\n",
       "    </tr>\n",
       "    <tr>\n",
       "      <th>3</th>\n",
       "      <td>A</td>\n",
       "      <td>Rp155,000</td>\n",
       "      <td>14 inch</td>\n",
       "      <td>smoked_beef</td>\n",
       "      <td>double_signature</td>\n",
       "      <td>reguler</td>\n",
       "      <td>yes</td>\n",
       "      <td>no</td>\n",
       "      <td>yes</td>\n",
       "    </tr>\n",
       "    <tr>\n",
       "      <th>4</th>\n",
       "      <td>A</td>\n",
       "      <td>Rp248,000</td>\n",
       "      <td>18 inch</td>\n",
       "      <td>mozzarella</td>\n",
       "      <td>double_signature</td>\n",
       "      <td>jumbo</td>\n",
       "      <td>yes</td>\n",
       "      <td>no</td>\n",
       "      <td>yes</td>\n",
       "    </tr>\n",
       "    <tr>\n",
       "      <th>...</th>\n",
       "      <td>...</td>\n",
       "      <td>...</td>\n",
       "      <td>...</td>\n",
       "      <td>...</td>\n",
       "      <td>...</td>\n",
       "      <td>...</td>\n",
       "      <td>...</td>\n",
       "      <td>...</td>\n",
       "      <td>...</td>\n",
       "    </tr>\n",
       "    <tr>\n",
       "      <th>124</th>\n",
       "      <td>E</td>\n",
       "      <td>Rp39,000</td>\n",
       "      <td>8.5 inch</td>\n",
       "      <td>tuna</td>\n",
       "      <td>spicy tuna</td>\n",
       "      <td>small</td>\n",
       "      <td>yes</td>\n",
       "      <td>yes</td>\n",
       "      <td>yes</td>\n",
       "    </tr>\n",
       "    <tr>\n",
       "      <th>125</th>\n",
       "      <td>E</td>\n",
       "      <td>Rp72,000</td>\n",
       "      <td>12 inch</td>\n",
       "      <td>tuna</td>\n",
       "      <td>spicy tuna</td>\n",
       "      <td>medium</td>\n",
       "      <td>yes</td>\n",
       "      <td>yes</td>\n",
       "      <td>yes</td>\n",
       "    </tr>\n",
       "    <tr>\n",
       "      <th>126</th>\n",
       "      <td>E</td>\n",
       "      <td>Rp99,000</td>\n",
       "      <td>14 inch</td>\n",
       "      <td>tuna</td>\n",
       "      <td>spicy tuna</td>\n",
       "      <td>large</td>\n",
       "      <td>yes</td>\n",
       "      <td>yes</td>\n",
       "      <td>yes</td>\n",
       "    </tr>\n",
       "    <tr>\n",
       "      <th>127</th>\n",
       "      <td>E</td>\n",
       "      <td>Rp44,000</td>\n",
       "      <td>8.5 inch</td>\n",
       "      <td>meat</td>\n",
       "      <td>BBQ_meat_fiesta</td>\n",
       "      <td>small</td>\n",
       "      <td>yes</td>\n",
       "      <td>no</td>\n",
       "      <td>yes</td>\n",
       "    </tr>\n",
       "    <tr>\n",
       "      <th>128</th>\n",
       "      <td>E</td>\n",
       "      <td>Rp78,000</td>\n",
       "      <td>12 inch</td>\n",
       "      <td>meat</td>\n",
       "      <td>BBQ_meat_fiesta</td>\n",
       "      <td>medium</td>\n",
       "      <td>no</td>\n",
       "      <td>no</td>\n",
       "      <td>yes</td>\n",
       "    </tr>\n",
       "  </tbody>\n",
       "</table>\n",
       "<p>129 rows × 9 columns</p>\n",
       "</div>"
      ],
      "text/plain": [
       "    company price_rupiah  diameter      topping           variant     size  \\\n",
       "0         A    Rp235,000   22 inch      chicken  double_signature    jumbo   \n",
       "1         A    Rp198,000   20 inch    papperoni  double_signature    jumbo   \n",
       "2         A    Rp120,000   16 inch    mushrooms  double_signature  reguler   \n",
       "3         A    Rp155,000   14 inch  smoked_beef  double_signature  reguler   \n",
       "4         A    Rp248,000   18 inch   mozzarella  double_signature    jumbo   \n",
       "..      ...          ...       ...          ...               ...      ...   \n",
       "124       E     Rp39,000  8.5 inch         tuna        spicy tuna    small   \n",
       "125       E     Rp72,000   12 inch         tuna        spicy tuna   medium   \n",
       "126       E     Rp99,000   14 inch         tuna        spicy tuna    large   \n",
       "127       E     Rp44,000  8.5 inch         meat   BBQ_meat_fiesta    small   \n",
       "128       E     Rp78,000   12 inch         meat   BBQ_meat_fiesta   medium   \n",
       "\n",
       "    extra_sauce extra_cheese extra_mushrooms  \n",
       "0           yes          yes              no  \n",
       "1           yes          yes              no  \n",
       "2           yes          yes             yes  \n",
       "3           yes           no             yes  \n",
       "4           yes           no             yes  \n",
       "..          ...          ...             ...  \n",
       "124         yes          yes             yes  \n",
       "125         yes          yes             yes  \n",
       "126         yes          yes             yes  \n",
       "127         yes           no             yes  \n",
       "128          no           no             yes  \n",
       "\n",
       "[129 rows x 9 columns]"
      ]
     },
     "execution_count": 3,
     "metadata": {},
     "output_type": "execute_result"
    }
   ],
   "source": [
    "df"
   ]
  },
  {
   "cell_type": "code",
   "execution_count": 4,
   "id": "2461f700",
   "metadata": {},
   "outputs": [
    {
     "name": "stdout",
     "output_type": "stream",
     "text": [
      "<class 'pandas.core.frame.DataFrame'>\n",
      "RangeIndex: 129 entries, 0 to 128\n",
      "Data columns (total 9 columns):\n",
      " #   Column           Non-Null Count  Dtype \n",
      "---  ------           --------------  ----- \n",
      " 0   company          129 non-null    object\n",
      " 1   price_rupiah     129 non-null    object\n",
      " 2   diameter         129 non-null    object\n",
      " 3   topping          129 non-null    object\n",
      " 4   variant          129 non-null    object\n",
      " 5   size             129 non-null    object\n",
      " 6   extra_sauce      129 non-null    object\n",
      " 7   extra_cheese     129 non-null    object\n",
      " 8   extra_mushrooms  129 non-null    object\n",
      "dtypes: object(9)\n",
      "memory usage: 9.2+ KB\n"
     ]
    }
   ],
   "source": [
    "df.info()"
   ]
  },
  {
   "cell_type": "code",
   "execution_count": 5,
   "id": "ec1fa2b1",
   "metadata": {},
   "outputs": [
    {
     "data": {
      "text/plain": [
       "company            129\n",
       "price_rupiah       129\n",
       "diameter           129\n",
       "topping            129\n",
       "variant            129\n",
       "size               129\n",
       "extra_sauce        129\n",
       "extra_cheese       129\n",
       "extra_mushrooms    129\n",
       "dtype: int64"
      ]
     },
     "execution_count": 5,
     "metadata": {},
     "output_type": "execute_result"
    }
   ],
   "source": [
    "df.isnull().count()"
   ]
  },
  {
   "cell_type": "code",
   "execution_count": 6,
   "id": "276cfdd5",
   "metadata": {},
   "outputs": [
    {
     "data": {
      "text/plain": [
       "12 inch      49\n",
       "14 inch      23\n",
       "8.5 inch     22\n",
       "17 inch      10\n",
       "18.5 inch     6\n",
       "16 inch       5\n",
       "8 inch        4\n",
       "16.5 inch     4\n",
       "22 inch       3\n",
       "20 inch       1\n",
       "14 inch\\n     1\n",
       "18 inch       1\n",
       "Name: diameter, dtype: int64"
      ]
     },
     "execution_count": 6,
     "metadata": {},
     "output_type": "execute_result"
    }
   ],
   "source": [
    "df['diameter'].value_counts()"
   ]
  },
  {
   "cell_type": "code",
   "execution_count": 7,
   "id": "ee0354fc",
   "metadata": {},
   "outputs": [
    {
     "data": {
      "text/plain": [
       "classic              30\n",
       "crunchy              10\n",
       "double_mix           10\n",
       "new_york             10\n",
       "meat_lovers          10\n",
       "double_decker         9\n",
       "super_supreme         5\n",
       "american_favorite     5\n",
       "double_signature      5\n",
       "BBQ_meat_fiesta       5\n",
       "BBQ_sausage           3\n",
       "spicy tuna            3\n",
       "gournet_greek         3\n",
       "neptune_tuna          3\n",
       "meat_eater            3\n",
       "thai_veggie           3\n",
       "american_classic      3\n",
       "extravaganza          3\n",
       "spicy_tuna            3\n",
       "italian_veggie        3\n",
       "Name: variant, dtype: int64"
      ]
     },
     "execution_count": 7,
     "metadata": {},
     "output_type": "execute_result"
    }
   ],
   "source": [
    "df['variant'].value_counts()"
   ]
  },
  {
   "cell_type": "code",
   "execution_count": 8,
   "id": "de01bf77",
   "metadata": {},
   "outputs": [
    {
     "data": {
      "text/plain": [
       "chicken         29\n",
       "mushrooms       22\n",
       "mozzarella      21\n",
       "smoked_beef     19\n",
       "vegetables       9\n",
       "tuna             9\n",
       "meat             8\n",
       "sausage          3\n",
       "beef             3\n",
       "black_papper     3\n",
       "papperoni        2\n",
       "onion            1\n",
       "Name: topping, dtype: int64"
      ]
     },
     "execution_count": 8,
     "metadata": {},
     "output_type": "execute_result"
    }
   ],
   "source": [
    "df['topping'].value_counts()"
   ]
  },
  {
   "cell_type": "code",
   "execution_count": 9,
   "id": "6e27867c",
   "metadata": {},
   "outputs": [
    {
     "data": {
      "text/plain": [
       "medium     41\n",
       "small      22\n",
       "large      21\n",
       "reguler    20\n",
       "jumbo      15\n",
       "XL         10\n",
       "Name: size, dtype: int64"
      ]
     },
     "execution_count": 9,
     "metadata": {},
     "output_type": "execute_result"
    }
   ],
   "source": [
    "df['size'].value_counts()"
   ]
  },
  {
   "cell_type": "code",
   "execution_count": 10,
   "id": "2cf231d5",
   "metadata": {},
   "outputs": [
    {
     "data": {
      "text/plain": [
       "yes    76\n",
       "no     53\n",
       "Name: extra_sauce, dtype: int64"
      ]
     },
     "execution_count": 10,
     "metadata": {},
     "output_type": "execute_result"
    }
   ],
   "source": [
    "df['extra_sauce'].value_counts()"
   ]
  },
  {
   "cell_type": "code",
   "execution_count": 11,
   "id": "a17f8513",
   "metadata": {},
   "outputs": [
    {
     "data": {
      "text/plain": [
       "yes    86\n",
       "no     43\n",
       "Name: extra_cheese, dtype: int64"
      ]
     },
     "execution_count": 11,
     "metadata": {},
     "output_type": "execute_result"
    }
   ],
   "source": [
    "df['extra_cheese'].value_counts()"
   ]
  },
  {
   "cell_type": "code",
   "execution_count": 12,
   "id": "0c6da745",
   "metadata": {},
   "outputs": [
    {
     "data": {
      "text/plain": [
       "yes    72\n",
       "no     57\n",
       "Name: extra_mushrooms, dtype: int64"
      ]
     },
     "execution_count": 12,
     "metadata": {},
     "output_type": "execute_result"
    }
   ],
   "source": [
    "df['extra_mushrooms'].value_counts()"
   ]
  },
  {
   "cell_type": "code",
   "execution_count": 13,
   "id": "b64f6304",
   "metadata": {},
   "outputs": [],
   "source": [
    "df['price_rupiah'] = df['price_rupiah'].str.replace('Rp','').str.replace(',','').astype('float64')\n",
    "df['diameter'] = df['diameter'].str.replace('inch','').str.replace(',','').astype('float')"
   ]
  },
  {
   "cell_type": "code",
   "execution_count": 14,
   "id": "a848ad42",
   "metadata": {},
   "outputs": [
    {
     "data": {
      "text/html": [
       "<div>\n",
       "<style scoped>\n",
       "    .dataframe tbody tr th:only-of-type {\n",
       "        vertical-align: middle;\n",
       "    }\n",
       "\n",
       "    .dataframe tbody tr th {\n",
       "        vertical-align: top;\n",
       "    }\n",
       "\n",
       "    .dataframe thead th {\n",
       "        text-align: right;\n",
       "    }\n",
       "</style>\n",
       "<table border=\"1\" class=\"dataframe\">\n",
       "  <thead>\n",
       "    <tr style=\"text-align: right;\">\n",
       "      <th></th>\n",
       "      <th>price_rupiah</th>\n",
       "      <th>diameter</th>\n",
       "    </tr>\n",
       "  </thead>\n",
       "  <tbody>\n",
       "    <tr>\n",
       "      <th>0</th>\n",
       "      <td>235000.0</td>\n",
       "      <td>22.0</td>\n",
       "    </tr>\n",
       "    <tr>\n",
       "      <th>1</th>\n",
       "      <td>198000.0</td>\n",
       "      <td>20.0</td>\n",
       "    </tr>\n",
       "    <tr>\n",
       "      <th>2</th>\n",
       "      <td>120000.0</td>\n",
       "      <td>16.0</td>\n",
       "    </tr>\n",
       "    <tr>\n",
       "      <th>3</th>\n",
       "      <td>155000.0</td>\n",
       "      <td>14.0</td>\n",
       "    </tr>\n",
       "    <tr>\n",
       "      <th>4</th>\n",
       "      <td>248000.0</td>\n",
       "      <td>18.0</td>\n",
       "    </tr>\n",
       "    <tr>\n",
       "      <th>...</th>\n",
       "      <td>...</td>\n",
       "      <td>...</td>\n",
       "    </tr>\n",
       "    <tr>\n",
       "      <th>124</th>\n",
       "      <td>39000.0</td>\n",
       "      <td>8.5</td>\n",
       "    </tr>\n",
       "    <tr>\n",
       "      <th>125</th>\n",
       "      <td>72000.0</td>\n",
       "      <td>12.0</td>\n",
       "    </tr>\n",
       "    <tr>\n",
       "      <th>126</th>\n",
       "      <td>99000.0</td>\n",
       "      <td>14.0</td>\n",
       "    </tr>\n",
       "    <tr>\n",
       "      <th>127</th>\n",
       "      <td>44000.0</td>\n",
       "      <td>8.5</td>\n",
       "    </tr>\n",
       "    <tr>\n",
       "      <th>128</th>\n",
       "      <td>78000.0</td>\n",
       "      <td>12.0</td>\n",
       "    </tr>\n",
       "  </tbody>\n",
       "</table>\n",
       "<p>129 rows × 2 columns</p>\n",
       "</div>"
      ],
      "text/plain": [
       "     price_rupiah  diameter\n",
       "0        235000.0      22.0\n",
       "1        198000.0      20.0\n",
       "2        120000.0      16.0\n",
       "3        155000.0      14.0\n",
       "4        248000.0      18.0\n",
       "..            ...       ...\n",
       "124       39000.0       8.5\n",
       "125       72000.0      12.0\n",
       "126       99000.0      14.0\n",
       "127       44000.0       8.5\n",
       "128       78000.0      12.0\n",
       "\n",
       "[129 rows x 2 columns]"
      ]
     },
     "execution_count": 14,
     "metadata": {},
     "output_type": "execute_result"
    }
   ],
   "source": [
    "df.loc[:,['price_rupiah','diameter']]"
   ]
  },
  {
   "cell_type": "code",
   "execution_count": 15,
   "id": "56f65d3b",
   "metadata": {},
   "outputs": [
    {
     "data": {
      "text/html": [
       "<div>\n",
       "<style scoped>\n",
       "    .dataframe tbody tr th:only-of-type {\n",
       "        vertical-align: middle;\n",
       "    }\n",
       "\n",
       "    .dataframe tbody tr th {\n",
       "        vertical-align: top;\n",
       "    }\n",
       "\n",
       "    .dataframe thead th {\n",
       "        text-align: right;\n",
       "    }\n",
       "</style>\n",
       "<table border=\"1\" class=\"dataframe\">\n",
       "  <thead>\n",
       "    <tr style=\"text-align: right;\">\n",
       "      <th></th>\n",
       "      <th>0</th>\n",
       "      <th>1</th>\n",
       "      <th>2</th>\n",
       "      <th>3</th>\n",
       "      <th>4</th>\n",
       "      <th>5</th>\n",
       "      <th>6</th>\n",
       "      <th>7</th>\n",
       "      <th>8</th>\n",
       "      <th>9</th>\n",
       "      <th>...</th>\n",
       "      <th>119</th>\n",
       "      <th>120</th>\n",
       "      <th>121</th>\n",
       "      <th>122</th>\n",
       "      <th>123</th>\n",
       "      <th>124</th>\n",
       "      <th>125</th>\n",
       "      <th>126</th>\n",
       "      <th>127</th>\n",
       "      <th>128</th>\n",
       "    </tr>\n",
       "  </thead>\n",
       "  <tbody>\n",
       "    <tr>\n",
       "      <th>company</th>\n",
       "      <td>A</td>\n",
       "      <td>A</td>\n",
       "      <td>A</td>\n",
       "      <td>A</td>\n",
       "      <td>A</td>\n",
       "      <td>A</td>\n",
       "      <td>A</td>\n",
       "      <td>A</td>\n",
       "      <td>A</td>\n",
       "      <td>A</td>\n",
       "      <td>...</td>\n",
       "      <td>E</td>\n",
       "      <td>E</td>\n",
       "      <td>E</td>\n",
       "      <td>E</td>\n",
       "      <td>E</td>\n",
       "      <td>E</td>\n",
       "      <td>E</td>\n",
       "      <td>E</td>\n",
       "      <td>E</td>\n",
       "      <td>E</td>\n",
       "    </tr>\n",
       "    <tr>\n",
       "      <th>price_rupiah</th>\n",
       "      <td>235000.0</td>\n",
       "      <td>198000.0</td>\n",
       "      <td>120000.0</td>\n",
       "      <td>155000.0</td>\n",
       "      <td>248000.0</td>\n",
       "      <td>140000.0</td>\n",
       "      <td>110000.0</td>\n",
       "      <td>70000.0</td>\n",
       "      <td>90000.0</td>\n",
       "      <td>90000.0</td>\n",
       "      <td>...</td>\n",
       "      <td>46000.0</td>\n",
       "      <td>72000.0</td>\n",
       "      <td>49000.0</td>\n",
       "      <td>83000.0</td>\n",
       "      <td>96000.0</td>\n",
       "      <td>39000.0</td>\n",
       "      <td>72000.0</td>\n",
       "      <td>99000.0</td>\n",
       "      <td>44000.0</td>\n",
       "      <td>78000.0</td>\n",
       "    </tr>\n",
       "    <tr>\n",
       "      <th>diameter</th>\n",
       "      <td>22.0</td>\n",
       "      <td>20.0</td>\n",
       "      <td>16.0</td>\n",
       "      <td>14.0</td>\n",
       "      <td>18.0</td>\n",
       "      <td>18.5</td>\n",
       "      <td>16.0</td>\n",
       "      <td>8.0</td>\n",
       "      <td>12.0</td>\n",
       "      <td>12.0</td>\n",
       "      <td>...</td>\n",
       "      <td>12.0</td>\n",
       "      <td>14.0</td>\n",
       "      <td>12.0</td>\n",
       "      <td>17.0</td>\n",
       "      <td>12.0</td>\n",
       "      <td>8.5</td>\n",
       "      <td>12.0</td>\n",
       "      <td>14.0</td>\n",
       "      <td>8.5</td>\n",
       "      <td>12.0</td>\n",
       "    </tr>\n",
       "    <tr>\n",
       "      <th>topping</th>\n",
       "      <td>chicken</td>\n",
       "      <td>papperoni</td>\n",
       "      <td>mushrooms</td>\n",
       "      <td>smoked_beef</td>\n",
       "      <td>mozzarella</td>\n",
       "      <td>black_papper</td>\n",
       "      <td>smoked_beef</td>\n",
       "      <td>papperoni</td>\n",
       "      <td>mushrooms</td>\n",
       "      <td>smoked_beef</td>\n",
       "      <td>...</td>\n",
       "      <td>mushrooms</td>\n",
       "      <td>mozzarella</td>\n",
       "      <td>smoked_beef</td>\n",
       "      <td>chicken</td>\n",
       "      <td>mushrooms</td>\n",
       "      <td>tuna</td>\n",
       "      <td>tuna</td>\n",
       "      <td>tuna</td>\n",
       "      <td>meat</td>\n",
       "      <td>meat</td>\n",
       "    </tr>\n",
       "    <tr>\n",
       "      <th>variant</th>\n",
       "      <td>double_signature</td>\n",
       "      <td>double_signature</td>\n",
       "      <td>double_signature</td>\n",
       "      <td>double_signature</td>\n",
       "      <td>double_signature</td>\n",
       "      <td>american_favorite</td>\n",
       "      <td>american_favorite</td>\n",
       "      <td>american_favorite</td>\n",
       "      <td>american_favorite</td>\n",
       "      <td>american_favorite</td>\n",
       "      <td>...</td>\n",
       "      <td>classic</td>\n",
       "      <td>classic</td>\n",
       "      <td>crunchy</td>\n",
       "      <td>new_york</td>\n",
       "      <td>double_decker</td>\n",
       "      <td>spicy tuna</td>\n",
       "      <td>spicy tuna</td>\n",
       "      <td>spicy tuna</td>\n",
       "      <td>BBQ_meat_fiesta</td>\n",
       "      <td>BBQ_meat_fiesta</td>\n",
       "    </tr>\n",
       "    <tr>\n",
       "      <th>size</th>\n",
       "      <td>jumbo</td>\n",
       "      <td>jumbo</td>\n",
       "      <td>reguler</td>\n",
       "      <td>reguler</td>\n",
       "      <td>jumbo</td>\n",
       "      <td>jumbo</td>\n",
       "      <td>jumbo</td>\n",
       "      <td>reguler</td>\n",
       "      <td>reguler</td>\n",
       "      <td>reguler</td>\n",
       "      <td>...</td>\n",
       "      <td>medium</td>\n",
       "      <td>large</td>\n",
       "      <td>medium</td>\n",
       "      <td>XL</td>\n",
       "      <td>medium</td>\n",
       "      <td>small</td>\n",
       "      <td>medium</td>\n",
       "      <td>large</td>\n",
       "      <td>small</td>\n",
       "      <td>medium</td>\n",
       "    </tr>\n",
       "    <tr>\n",
       "      <th>extra_sauce</th>\n",
       "      <td>yes</td>\n",
       "      <td>yes</td>\n",
       "      <td>yes</td>\n",
       "      <td>yes</td>\n",
       "      <td>yes</td>\n",
       "      <td>no</td>\n",
       "      <td>no</td>\n",
       "      <td>no</td>\n",
       "      <td>yes</td>\n",
       "      <td>no</td>\n",
       "      <td>...</td>\n",
       "      <td>yes</td>\n",
       "      <td>yes</td>\n",
       "      <td>no</td>\n",
       "      <td>no</td>\n",
       "      <td>no</td>\n",
       "      <td>yes</td>\n",
       "      <td>yes</td>\n",
       "      <td>yes</td>\n",
       "      <td>yes</td>\n",
       "      <td>no</td>\n",
       "    </tr>\n",
       "    <tr>\n",
       "      <th>extra_cheese</th>\n",
       "      <td>yes</td>\n",
       "      <td>yes</td>\n",
       "      <td>yes</td>\n",
       "      <td>no</td>\n",
       "      <td>no</td>\n",
       "      <td>no</td>\n",
       "      <td>yes</td>\n",
       "      <td>no</td>\n",
       "      <td>no</td>\n",
       "      <td>no</td>\n",
       "      <td>...</td>\n",
       "      <td>yes</td>\n",
       "      <td>yes</td>\n",
       "      <td>yes</td>\n",
       "      <td>yes</td>\n",
       "      <td>yes</td>\n",
       "      <td>yes</td>\n",
       "      <td>yes</td>\n",
       "      <td>yes</td>\n",
       "      <td>no</td>\n",
       "      <td>no</td>\n",
       "    </tr>\n",
       "    <tr>\n",
       "      <th>extra_mushrooms</th>\n",
       "      <td>no</td>\n",
       "      <td>no</td>\n",
       "      <td>yes</td>\n",
       "      <td>yes</td>\n",
       "      <td>yes</td>\n",
       "      <td>yes</td>\n",
       "      <td>yes</td>\n",
       "      <td>yes</td>\n",
       "      <td>yes</td>\n",
       "      <td>no</td>\n",
       "      <td>...</td>\n",
       "      <td>no</td>\n",
       "      <td>no</td>\n",
       "      <td>no</td>\n",
       "      <td>no</td>\n",
       "      <td>yes</td>\n",
       "      <td>yes</td>\n",
       "      <td>yes</td>\n",
       "      <td>yes</td>\n",
       "      <td>yes</td>\n",
       "      <td>yes</td>\n",
       "    </tr>\n",
       "  </tbody>\n",
       "</table>\n",
       "<p>9 rows × 129 columns</p>\n",
       "</div>"
      ],
      "text/plain": [
       "                              0                 1                 2    \\\n",
       "company                         A                 A                 A   \n",
       "price_rupiah             235000.0          198000.0          120000.0   \n",
       "diameter                     22.0              20.0              16.0   \n",
       "topping                   chicken         papperoni         mushrooms   \n",
       "variant          double_signature  double_signature  double_signature   \n",
       "size                        jumbo             jumbo           reguler   \n",
       "extra_sauce                   yes               yes               yes   \n",
       "extra_cheese                  yes               yes               yes   \n",
       "extra_mushrooms                no                no               yes   \n",
       "\n",
       "                              3                 4                  5    \\\n",
       "company                         A                 A                  A   \n",
       "price_rupiah             155000.0          248000.0           140000.0   \n",
       "diameter                     14.0              18.0               18.5   \n",
       "topping               smoked_beef        mozzarella       black_papper   \n",
       "variant          double_signature  double_signature  american_favorite   \n",
       "size                      reguler             jumbo              jumbo   \n",
       "extra_sauce                   yes               yes                 no   \n",
       "extra_cheese                   no                no                 no   \n",
       "extra_mushrooms               yes               yes                yes   \n",
       "\n",
       "                               6                  7                  8    \\\n",
       "company                          A                  A                  A   \n",
       "price_rupiah              110000.0            70000.0            90000.0   \n",
       "diameter                      16.0                8.0               12.0   \n",
       "topping                smoked_beef          papperoni          mushrooms   \n",
       "variant          american_favorite  american_favorite  american_favorite   \n",
       "size                         jumbo            reguler            reguler   \n",
       "extra_sauce                     no                 no                yes   \n",
       "extra_cheese                   yes                 no                 no   \n",
       "extra_mushrooms                yes                yes                yes   \n",
       "\n",
       "                               9    ...        119         120          121  \\\n",
       "company                          A  ...          E           E            E   \n",
       "price_rupiah               90000.0  ...    46000.0     72000.0      49000.0   \n",
       "diameter                      12.0  ...       12.0        14.0         12.0   \n",
       "topping                smoked_beef  ...  mushrooms  mozzarella  smoked_beef   \n",
       "variant          american_favorite  ...    classic     classic      crunchy   \n",
       "size                       reguler  ...     medium       large       medium   \n",
       "extra_sauce                     no  ...        yes         yes           no   \n",
       "extra_cheese                    no  ...        yes         yes          yes   \n",
       "extra_mushrooms                 no  ...         no          no           no   \n",
       "\n",
       "                      122            123         124         125         126  \\\n",
       "company                 E              E           E           E           E   \n",
       "price_rupiah      83000.0        96000.0     39000.0     72000.0     99000.0   \n",
       "diameter             17.0           12.0         8.5        12.0        14.0   \n",
       "topping           chicken      mushrooms        tuna        tuna        tuna   \n",
       "variant          new_york  double_decker  spicy tuna  spicy tuna  spicy tuna   \n",
       "size                   XL         medium       small      medium       large   \n",
       "extra_sauce            no             no         yes         yes         yes   \n",
       "extra_cheese          yes            yes         yes         yes         yes   \n",
       "extra_mushrooms        no            yes         yes         yes         yes   \n",
       "\n",
       "                             127              128  \n",
       "company                        E                E  \n",
       "price_rupiah             44000.0          78000.0  \n",
       "diameter                     8.5             12.0  \n",
       "topping                     meat             meat  \n",
       "variant          BBQ_meat_fiesta  BBQ_meat_fiesta  \n",
       "size                       small           medium  \n",
       "extra_sauce                  yes               no  \n",
       "extra_cheese                  no               no  \n",
       "extra_mushrooms              yes              yes  \n",
       "\n",
       "[9 rows x 129 columns]"
      ]
     },
     "execution_count": 15,
     "metadata": {},
     "output_type": "execute_result"
    }
   ],
   "source": [
    "df.T"
   ]
  },
  {
   "cell_type": "code",
   "execution_count": 16,
   "id": "9928fd78",
   "metadata": {},
   "outputs": [
    {
     "data": {
      "image/png": "[encoded data removed]",
      "text/plain": [
       "<Figure size 1152x360 with 1 Axes>"
      ]
     },
     "metadata": {
      "needs_background": "light"
     },
     "output_type": "display_data"
    }
   ],
   "source": [
    "plt.figure(figsize=(16, 5))\n",
    "sns.boxplot(x='company', y='price_rupiah', data=df, hue='extra_sauce')\n",
    "plt.title('Boxplot Visualization does the Pizza get Extra Sauce or Not')\n",
    "plt.ylim(0, 250000)\n",
    "plt.show()"
   ]
  },
  {
   "cell_type": "code",
   "execution_count": 17,
   "id": "ead2ef61",
   "metadata": {},
   "outputs": [
    {
     "data": {
      "image/png": "[encoded data removed]",
      "text/plain": [
       "<Figure size 1152x360 with 1 Axes>"
      ]
     },
     "metadata": {
      "needs_background": "light"
     },
     "output_type": "display_data"
    }
   ],
   "source": [
    "plt.figure(figsize=(16, 5))\n",
    "sns.boxplot(x='company', y='price_rupiah', data=df, hue='extra_cheese')\n",
    "plt.title('Boxplot Visualization does the Pizza get Extra Cheese or Not')\n",
    "plt.ylim(0, 250000)\n",
    "plt.show()"
   ]
  },
  {
   "cell_type": "code",
   "execution_count": 18,
   "id": "4d222adc",
   "metadata": {},
   "outputs": [
    {
     "data": {
      "image/png": "[encoded data removed]",
      "text/plain": [
       "<Figure size 1152x360 with 1 Axes>"
      ]
     },
     "metadata": {
      "needs_background": "light"
     },
     "output_type": "display_data"
    }
   ],
   "source": [
    "plt.figure(figsize=(16, 5))\n",
    "sns.boxplot(x='company', y='price_rupiah', data=df, hue='extra_mushrooms')\n",
    "plt.title('Boxplot Visualization does the Pizza get Extra Mushrooms or Not')\n",
    "plt.ylim(0, 250000)\n",
    "plt.show()"
   ]
  },
  {
   "cell_type": "code",
   "execution_count": 19,
   "id": "8f123d8f",
   "metadata": {},
   "outputs": [
    {
     "data": {
      "image/png": "[encoded data removed]",
      "text/plain": [
       "<Figure size 1152x1152 with 1 Axes>"
      ]
     },
     "metadata": {
      "needs_background": "light"
     },
     "output_type": "display_data"
    }
   ],
   "source": [
    "plt.figure(figsize=(16, 16))\n",
    "sns.boxplot(x='company', y='price_rupiah', data=df, hue='variant')\n",
    "plt.title('Boxplot Visualization Pizza Variant')\n",
    "plt.ylim(0, 250000)\n",
    "plt.show()"
   ]
  },
  {
   "cell_type": "code",
   "execution_count": 20,
   "id": "46f3b60b",
   "metadata": {},
   "outputs": [
    {
     "data": {
      "image/png": "[encoded data removed]",
      "text/plain": [
       "<Figure size 1152x864 with 1 Axes>"
      ]
     },
     "metadata": {
      "needs_background": "light"
     },
     "output_type": "display_data"
    }
   ],
   "source": [
    "plt.figure(figsize=(16, 12))\n",
    "sns.boxplot(x='company', y='price_rupiah', data=df, hue='topping')\n",
    "plt.title('Boxplot Visualization Pizza Topping')\n",
    "plt.ylim(0, 250000)\n",
    "plt.show()"
   ]
  },
  {
   "cell_type": "code",
   "execution_count": 21,
   "id": "a94cee75",
   "metadata": {},
   "outputs": [
    {
     "data": {
      "image/png": "[encoded data removed]",
      "text/plain": [
       "<Figure size 1152x864 with 1 Axes>"
      ]
     },
     "metadata": {
      "needs_background": "light"
     },
     "output_type": "display_data"
    }
   ],
   "source": [
    "plt.figure(figsize=(16, 12))\n",
    "sns.boxplot(x='company', y='price_rupiah', data=df, hue='size')\n",
    "plt.title('Boxplot Visualization Pizza Size')\n",
    "plt.ylim(0, 250000)\n",
    "plt.show()"
   ]
  },
  {
   "cell_type": "markdown",
   "id": "2666cb0c",
   "metadata": {},
   "source": [
    "# Heat Map"
   ]
  },
  {
   "cell_type": "code",
   "execution_count": 22,
   "id": "a5602dbc",
   "metadata": {},
   "outputs": [
    {
     "data": {
      "image/png": "[encoded data removed]",
      "text/plain": [
       "<Figure size 720x720 with 2 Axes>"
      ]
     },
     "metadata": {
      "needs_background": "light"
     },
     "output_type": "display_data"
    }
   ],
   "source": [
    "plt.figure(figsize = (10,10))\n",
    "sns.heatmap(df.corr(), annot = True, cmap = \"Oranges\")\n",
    "plt.show()"
   ]
  },
  {
   "cell_type": "code",
   "execution_count": 23,
   "id": "2f18442a",
   "metadata": {},
   "outputs": [
    {
     "data": {
      "image/png": "[encoded data removed]",
      "text/plain": [
       "<Figure size 1152x360 with 1 Axes>"
      ]
     },
     "metadata": {
      "needs_background": "light"
     },
     "output_type": "display_data"
    }
   ],
   "source": [
    "plt.figure(figsize=(16, 5))\n",
    "sns.swarmplot(x='company', y='price_rupiah', data=df)\n",
    "plt.title('Company with their Price')\n",
    "plt.ylim(0, 260000)\n",
    "plt.show()"
   ]
  },
  {
   "cell_type": "code",
   "execution_count": 24,
   "id": "52c30d99",
   "metadata": {},
   "outputs": [
    {
     "data": {
      "image/png": "[encoded data removed]",
      "text/plain": [
       "<Figure size 1152x360 with 1 Axes>"
      ]
     },
     "metadata": {
      "needs_background": "light"
     },
     "output_type": "display_data"
    }
   ],
   "source": [
    "plt.figure(figsize=(16, 5))\n",
    "sns.swarmplot(x='company', y='diameter', data=df)\n",
    "plt.title('Company with their Diameter')\n",
    "plt.ylim(0, 30)\n",
    "plt.show()"
   ]
  },
  {
   "cell_type": "markdown",
   "id": "25867f3b",
   "metadata": {},
   "source": [
    "# Encoding"
   ]
  },
  {
   "cell_type": "markdown",
   "id": "2874a76d",
   "metadata": {},
   "source": [
    "we need to encode the data since this data is a categorical data, and i'm using LabelEncoder here, since this data have a lot of categorical data."
   ]
  },
  {
   "cell_type": "code",
   "execution_count": 25,
   "id": "f08e46b9",
   "metadata": {},
   "outputs": [],
   "source": [
    "from sklearn.preprocessing import LabelEncoder # Import the Encoder\n",
    "encoder = LabelEncoder()"
   ]
  },
  {
   "cell_type": "code",
   "execution_count": 26,
   "id": "1dc5a812",
   "metadata": {},
   "outputs": [],
   "source": [
    "for i in df.columns: # Make a for loops\n",
    "    if df[i].dtype == 'object': \n",
    "        encoder.fit_transform(list(df[i].values)) # Fit transform\n",
    "        df[i] = encoder.transform(df[i].values) # Transform\n",
    "         \n",
    "        for j in df.columns: # Make a for loops again\n",
    "            if df[j].dtype == 'int':\n",
    "                df[j] = df[j].astype('float64') # Change the type"
   ]
  },
  {
   "cell_type": "code",
   "execution_count": 27,
   "id": "8bf658a7",
   "metadata": {},
   "outputs": [
    {
     "data": {
      "text/html": [
       "<div>\n",
       "<style scoped>\n",
       "    .dataframe tbody tr th:only-of-type {\n",
       "        vertical-align: middle;\n",
       "    }\n",
       "\n",
       "    .dataframe tbody tr th {\n",
       "        vertical-align: top;\n",
       "    }\n",
       "\n",
       "    .dataframe thead th {\n",
       "        text-align: right;\n",
       "    }\n",
       "</style>\n",
       "<table border=\"1\" class=\"dataframe\">\n",
       "  <thead>\n",
       "    <tr style=\"text-align: right;\">\n",
       "      <th></th>\n",
       "      <th>company</th>\n",
       "      <th>price_rupiah</th>\n",
       "      <th>diameter</th>\n",
       "      <th>topping</th>\n",
       "      <th>variant</th>\n",
       "      <th>size</th>\n",
       "      <th>extra_sauce</th>\n",
       "      <th>extra_cheese</th>\n",
       "      <th>extra_mushrooms</th>\n",
       "    </tr>\n",
       "  </thead>\n",
       "  <tbody>\n",
       "    <tr>\n",
       "      <th>0</th>\n",
       "      <td>0.0</td>\n",
       "      <td>235000.0</td>\n",
       "      <td>22.0</td>\n",
       "      <td>2.0</td>\n",
       "      <td>8.0</td>\n",
       "      <td>1.0</td>\n",
       "      <td>1.0</td>\n",
       "      <td>1.0</td>\n",
       "      <td>0.0</td>\n",
       "    </tr>\n",
       "    <tr>\n",
       "      <th>1</th>\n",
       "      <td>0.0</td>\n",
       "      <td>198000.0</td>\n",
       "      <td>20.0</td>\n",
       "      <td>7.0</td>\n",
       "      <td>8.0</td>\n",
       "      <td>1.0</td>\n",
       "      <td>1.0</td>\n",
       "      <td>1.0</td>\n",
       "      <td>0.0</td>\n",
       "    </tr>\n",
       "    <tr>\n",
       "      <th>2</th>\n",
       "      <td>0.0</td>\n",
       "      <td>120000.0</td>\n",
       "      <td>16.0</td>\n",
       "      <td>5.0</td>\n",
       "      <td>8.0</td>\n",
       "      <td>4.0</td>\n",
       "      <td>1.0</td>\n",
       "      <td>1.0</td>\n",
       "      <td>1.0</td>\n",
       "    </tr>\n",
       "    <tr>\n",
       "      <th>3</th>\n",
       "      <td>0.0</td>\n",
       "      <td>155000.0</td>\n",
       "      <td>14.0</td>\n",
       "      <td>9.0</td>\n",
       "      <td>8.0</td>\n",
       "      <td>4.0</td>\n",
       "      <td>1.0</td>\n",
       "      <td>0.0</td>\n",
       "      <td>1.0</td>\n",
       "    </tr>\n",
       "    <tr>\n",
       "      <th>4</th>\n",
       "      <td>0.0</td>\n",
       "      <td>248000.0</td>\n",
       "      <td>18.0</td>\n",
       "      <td>4.0</td>\n",
       "      <td>8.0</td>\n",
       "      <td>1.0</td>\n",
       "      <td>1.0</td>\n",
       "      <td>0.0</td>\n",
       "      <td>1.0</td>\n",
       "    </tr>\n",
       "  </tbody>\n",
       "</table>\n",
       "</div>"
      ],
      "text/plain": [
       "   company  price_rupiah  diameter  topping  variant  size  extra_sauce  \\\n",
       "0      0.0      235000.0      22.0      2.0      8.0   1.0          1.0   \n",
       "1      0.0      198000.0      20.0      7.0      8.0   1.0          1.0   \n",
       "2      0.0      120000.0      16.0      5.0      8.0   4.0          1.0   \n",
       "3      0.0      155000.0      14.0      9.0      8.0   4.0          1.0   \n",
       "4      0.0      248000.0      18.0      4.0      8.0   1.0          1.0   \n",
       "\n",
       "   extra_cheese  extra_mushrooms  \n",
       "0           1.0              0.0  \n",
       "1           1.0              0.0  \n",
       "2           1.0              1.0  \n",
       "3           0.0              1.0  \n",
       "4           0.0              1.0  "
      ]
     },
     "execution_count": 27,
     "metadata": {},
     "output_type": "execute_result"
    }
   ],
   "source": [
    "df.head()"
   ]
  },
  {
   "cell_type": "markdown",
   "id": "7d4af6cd",
   "metadata": {},
   "source": [
    "# Splitting, Modeling, Model Evaluation"
   ]
  },
  {
   "cell_type": "markdown",
   "id": "9b9c558c",
   "metadata": {},
   "source": [
    "# Split the Data"
   ]
  },
  {
   "cell_type": "markdown",
   "id": "4d90747c",
   "metadata": {},
   "source": [
    "Divide the data and split it using train test split module from sklearn."
   ]
  },
  {
   "cell_type": "code",
   "execution_count": 28,
   "id": "940748c8",
   "metadata": {},
   "outputs": [],
   "source": [
    "x = df.drop(columns=['price_rupiah']) # Data X\n",
    "y = df['price_rupiah'] # Data y"
   ]
  },
  {
   "cell_type": "code",
   "execution_count": 29,
   "id": "07c2f469",
   "metadata": {
    "scrolled": false
   },
   "outputs": [
    {
     "data": {
      "text/html": [
       "<div>\n",
       "<style scoped>\n",
       "    .dataframe tbody tr th:only-of-type {\n",
       "        vertical-align: middle;\n",
       "    }\n",
       "\n",
       "    .dataframe tbody tr th {\n",
       "        vertical-align: top;\n",
       "    }\n",
       "\n",
       "    .dataframe thead th {\n",
       "        text-align: right;\n",
       "    }\n",
       "</style>\n",
       "<table border=\"1\" class=\"dataframe\">\n",
       "  <thead>\n",
       "    <tr style=\"text-align: right;\">\n",
       "      <th></th>\n",
       "      <th>company</th>\n",
       "      <th>diameter</th>\n",
       "      <th>topping</th>\n",
       "      <th>variant</th>\n",
       "      <th>size</th>\n",
       "      <th>extra_sauce</th>\n",
       "      <th>extra_cheese</th>\n",
       "      <th>extra_mushrooms</th>\n",
       "    </tr>\n",
       "  </thead>\n",
       "  <tbody>\n",
       "    <tr>\n",
       "      <th>0</th>\n",
       "      <td>0.0</td>\n",
       "      <td>22.0</td>\n",
       "      <td>2.0</td>\n",
       "      <td>8.0</td>\n",
       "      <td>1.0</td>\n",
       "      <td>1.0</td>\n",
       "      <td>1.0</td>\n",
       "      <td>0.0</td>\n",
       "    </tr>\n",
       "    <tr>\n",
       "      <th>1</th>\n",
       "      <td>0.0</td>\n",
       "      <td>20.0</td>\n",
       "      <td>7.0</td>\n",
       "      <td>8.0</td>\n",
       "      <td>1.0</td>\n",
       "      <td>1.0</td>\n",
       "      <td>1.0</td>\n",
       "      <td>0.0</td>\n",
       "    </tr>\n",
       "    <tr>\n",
       "      <th>2</th>\n",
       "      <td>0.0</td>\n",
       "      <td>16.0</td>\n",
       "      <td>5.0</td>\n",
       "      <td>8.0</td>\n",
       "      <td>4.0</td>\n",
       "      <td>1.0</td>\n",
       "      <td>1.0</td>\n",
       "      <td>1.0</td>\n",
       "    </tr>\n",
       "    <tr>\n",
       "      <th>3</th>\n",
       "      <td>0.0</td>\n",
       "      <td>14.0</td>\n",
       "      <td>9.0</td>\n",
       "      <td>8.0</td>\n",
       "      <td>4.0</td>\n",
       "      <td>1.0</td>\n",
       "      <td>0.0</td>\n",
       "      <td>1.0</td>\n",
       "    </tr>\n",
       "    <tr>\n",
       "      <th>4</th>\n",
       "      <td>0.0</td>\n",
       "      <td>18.0</td>\n",
       "      <td>4.0</td>\n",
       "      <td>8.0</td>\n",
       "      <td>1.0</td>\n",
       "      <td>1.0</td>\n",
       "      <td>0.0</td>\n",
       "      <td>1.0</td>\n",
       "    </tr>\n",
       "    <tr>\n",
       "      <th>...</th>\n",
       "      <td>...</td>\n",
       "      <td>...</td>\n",
       "      <td>...</td>\n",
       "      <td>...</td>\n",
       "      <td>...</td>\n",
       "      <td>...</td>\n",
       "      <td>...</td>\n",
       "      <td>...</td>\n",
       "    </tr>\n",
       "    <tr>\n",
       "      <th>124</th>\n",
       "      <td>4.0</td>\n",
       "      <td>8.5</td>\n",
       "      <td>10.0</td>\n",
       "      <td>16.0</td>\n",
       "      <td>5.0</td>\n",
       "      <td>1.0</td>\n",
       "      <td>1.0</td>\n",
       "      <td>1.0</td>\n",
       "    </tr>\n",
       "    <tr>\n",
       "      <th>125</th>\n",
       "      <td>4.0</td>\n",
       "      <td>12.0</td>\n",
       "      <td>10.0</td>\n",
       "      <td>16.0</td>\n",
       "      <td>3.0</td>\n",
       "      <td>1.0</td>\n",
       "      <td>1.0</td>\n",
       "      <td>1.0</td>\n",
       "    </tr>\n",
       "    <tr>\n",
       "      <th>126</th>\n",
       "      <td>4.0</td>\n",
       "      <td>14.0</td>\n",
       "      <td>10.0</td>\n",
       "      <td>16.0</td>\n",
       "      <td>2.0</td>\n",
       "      <td>1.0</td>\n",
       "      <td>1.0</td>\n",
       "      <td>1.0</td>\n",
       "    </tr>\n",
       "    <tr>\n",
       "      <th>127</th>\n",
       "      <td>4.0</td>\n",
       "      <td>8.5</td>\n",
       "      <td>3.0</td>\n",
       "      <td>0.0</td>\n",
       "      <td>5.0</td>\n",
       "      <td>1.0</td>\n",
       "      <td>0.0</td>\n",
       "      <td>1.0</td>\n",
       "    </tr>\n",
       "    <tr>\n",
       "      <th>128</th>\n",
       "      <td>4.0</td>\n",
       "      <td>12.0</td>\n",
       "      <td>3.0</td>\n",
       "      <td>0.0</td>\n",
       "      <td>3.0</td>\n",
       "      <td>0.0</td>\n",
       "      <td>0.0</td>\n",
       "      <td>1.0</td>\n",
       "    </tr>\n",
       "  </tbody>\n",
       "</table>\n",
       "<p>129 rows × 8 columns</p>\n",
       "</div>"
      ],
      "text/plain": [
       "     company  diameter  topping  variant  size  extra_sauce  extra_cheese  \\\n",
       "0        0.0      22.0      2.0      8.0   1.0          1.0           1.0   \n",
       "1        0.0      20.0      7.0      8.0   1.0          1.0           1.0   \n",
       "2        0.0      16.0      5.0      8.0   4.0          1.0           1.0   \n",
       "3        0.0      14.0      9.0      8.0   4.0          1.0           0.0   \n",
       "4        0.0      18.0      4.0      8.0   1.0          1.0           0.0   \n",
       "..       ...       ...      ...      ...   ...          ...           ...   \n",
       "124      4.0       8.5     10.0     16.0   5.0          1.0           1.0   \n",
       "125      4.0      12.0     10.0     16.0   3.0          1.0           1.0   \n",
       "126      4.0      14.0     10.0     16.0   2.0          1.0           1.0   \n",
       "127      4.0       8.5      3.0      0.0   5.0          1.0           0.0   \n",
       "128      4.0      12.0      3.0      0.0   3.0          0.0           0.0   \n",
       "\n",
       "     extra_mushrooms  \n",
       "0                0.0  \n",
       "1                0.0  \n",
       "2                1.0  \n",
       "3                1.0  \n",
       "4                1.0  \n",
       "..               ...  \n",
       "124              1.0  \n",
       "125              1.0  \n",
       "126              1.0  \n",
       "127              1.0  \n",
       "128              1.0  \n",
       "\n",
       "[129 rows x 8 columns]"
      ]
     },
     "execution_count": 29,
     "metadata": {},
     "output_type": "execute_result"
    }
   ],
   "source": [
    "x"
   ]
  },
  {
   "cell_type": "code",
   "execution_count": 30,
   "id": "d9cf9bcd",
   "metadata": {},
   "outputs": [
    {
     "data": {
      "text/plain": [
       "0      235000.0\n",
       "1      198000.0\n",
       "2      120000.0\n",
       "3      155000.0\n",
       "4      248000.0\n",
       "         ...   \n",
       "124     39000.0\n",
       "125     72000.0\n",
       "126     99000.0\n",
       "127     44000.0\n",
       "128     78000.0\n",
       "Name: price_rupiah, Length: 129, dtype: float64"
      ]
     },
     "execution_count": 30,
     "metadata": {},
     "output_type": "execute_result"
    }
   ],
   "source": [
    "y"
   ]
  },
  {
   "cell_type": "markdown",
   "id": "9720d3b6",
   "metadata": {},
   "source": [
    "# Modeling"
   ]
  },
  {
   "cell_type": "markdown",
   "id": "ae487057",
   "metadata": {},
   "source": [
    "Since the data is for predicting numeric or price, from that, we can know, this data is a regression model, then i'm using XGBRegressor, RandomforestRegressor, GradientBoostingRegressor, KNeighborsRegressor, SVR, DecisionTreeRegressor, RandomForestRegressor, AdaBoostRegressor, GradientBoostingRegressor,BaggingRegressor for that."
   ]
  },
  {
   "cell_type": "code",
   "execution_count": 31,
   "id": "a604c511",
   "metadata": {},
   "outputs": [],
   "source": [
    "from sklearn.model_selection import train_test_split\n",
    "from sklearn.ensemble import RandomForestRegressor\n",
    "from sklearn import metrics\n",
    "from sklearn.metrics import mean_absolute_error as mae, mean_squared_error as mse, r2_score\n",
    "from sklearn.model_selection import GridSearchCV\n",
    "from sklearn.ensemble import GradientBoostingRegressor\n",
    "from sklearn.neighbors import KNeighborsRegressor\n",
    "from sklearn.svm import SVR\n",
    "from sklearn.tree import DecisionTreeRegressor\n",
    "from sklearn.ensemble import RandomForestRegressor, AdaBoostRegressor, GradientBoostingRegressor,BaggingRegressor\n",
    "from xgboost import XGBRegressor"
   ]
  },
  {
   "cell_type": "code",
   "execution_count": 32,
   "id": "4eff8ff8",
   "metadata": {},
   "outputs": [],
   "source": [
    "acc = []\n",
    "\n",
    "for i in range(100):\n",
    "    xtrain, xtest, ytrain, ytest = train_test_split(x,y, test_size=0.3, random_state=i)\n",
    "    regressor = RandomForestRegressor()\n",
    "    regressor.fit(xtrain,ytrain)\n",
    "    ypred=regressor.predict(xtest)\n",
    "    acc.append(r2_score(ytest,ypred))"
   ]
  },
  {
   "cell_type": "code",
   "execution_count": 33,
   "id": "6be67a9a",
   "metadata": {},
   "outputs": [
    {
     "data": {
      "text/plain": [
       "5"
      ]
     },
     "execution_count": 33,
     "metadata": {},
     "output_type": "execute_result"
    }
   ],
   "source": [
    "np.argmax(acc)"
   ]
  },
  {
   "cell_type": "code",
   "execution_count": 34,
   "id": "a7d39200",
   "metadata": {},
   "outputs": [
    {
     "data": {
      "text/plain": [
       "0.9684557298822326"
      ]
     },
     "execution_count": 34,
     "metadata": {},
     "output_type": "execute_result"
    }
   ],
   "source": [
    "acc[np.argmax(acc)]"
   ]
  },
  {
   "cell_type": "code",
   "execution_count": 35,
   "id": "4e6e139e",
   "metadata": {},
   "outputs": [],
   "source": [
    "xtrain, xtest, ytrain, ytest = train_test_split(x,y, test_size=0.3, random_state=np.argmax(acc))\n",
    "regressor = RandomForestRegressor()\n",
    "regressor.fit(xtrain, ytrain)\n",
    "ypred = regressor.predict(xtest)   \n",
    "acc.append(r2_score(ytest, ypred))"
   ]
  },
  {
   "cell_type": "code",
   "execution_count": 36,
   "id": "7f7ae829",
   "metadata": {},
   "outputs": [
    {
     "data": {
      "image/png": "[encoded data removed]",
      "text/plain": [
       "<Figure size 432x288 with 1 Axes>"
      ]
     },
     "metadata": {
      "needs_background": "light"
     },
     "output_type": "display_data"
    }
   ],
   "source": [
    "plt.scatter(ytest, ypred, alpha = 0.5)\n",
    "plt.xlabel(\"ytest\")\n",
    "plt.ylabel(\"ypred\")\n",
    "plt.show()"
   ]
  },
  {
   "cell_type": "code",
   "execution_count": 37,
   "id": "50c9beba",
   "metadata": {},
   "outputs": [
    {
     "name": "stdout",
     "output_type": "stream",
     "text": [
      "MAE: 7686.153846153846\n",
      "MSE: 86047474.35897435\n",
      "RMSE: 9276.177788236615\n"
     ]
    }
   ],
   "source": [
    "print('MAE:', metrics.mean_absolute_error(ytest, ypred))\n",
    "print('MSE:', metrics.mean_squared_error(ytest, ypred))\n",
    "print('RMSE:', np.sqrt(metrics.mean_squared_error(ytest, ypred)))"
   ]
  },
  {
   "cell_type": "code",
   "execution_count": 38,
   "id": "bade45f4",
   "metadata": {},
   "outputs": [
    {
     "data": {
      "text/plain": [
       "0.9586971797216408"
      ]
     },
     "execution_count": 38,
     "metadata": {},
     "output_type": "execute_result"
    }
   ],
   "source": [
    "metrics.r2_score(ytest, ypred)"
   ]
  },
  {
   "cell_type": "code",
   "execution_count": 39,
   "id": "4fb4be28",
   "metadata": {},
   "outputs": [],
   "source": [
    "def mymodel(model):\n",
    "    model.fit(xtrain,ytrain)\n",
    "    ypred=model.predict(xtest)\n",
    "    metrics.r2_score(ytest, ypred)\n",
    "    \n",
    "    print(f\"R2_Score : {metrics.r2_score(ytest, ypred)}\")"
   ]
  },
  {
   "cell_type": "code",
   "execution_count": 40,
   "id": "450fc45f",
   "metadata": {},
   "outputs": [],
   "source": [
    "knn = KNeighborsRegressor()\n",
    "svm = SVR()\n",
    "dt  = DecisionTreeRegressor()\n",
    "rf  = RandomForestRegressor()\n",
    "xgb = XGBRegressor()\n",
    "regressor = RandomForestRegressor()"
   ]
  },
  {
   "cell_type": "code",
   "execution_count": 41,
   "id": "a301311e",
   "metadata": {},
   "outputs": [
    {
     "name": "stdout",
     "output_type": "stream",
     "text": [
      "R2_Score : 0.8809095675815128\n"
     ]
    }
   ],
   "source": [
    "mymodel(knn)"
   ]
  },
  {
   "cell_type": "code",
   "execution_count": 42,
   "id": "7be0c77f",
   "metadata": {},
   "outputs": [
    {
     "name": "stdout",
     "output_type": "stream",
     "text": [
      "R2_Score : -0.11644421986000997\n"
     ]
    }
   ],
   "source": [
    "mymodel(svm)"
   ]
  },
  {
   "cell_type": "code",
   "execution_count": 43,
   "id": "21dbb706",
   "metadata": {},
   "outputs": [
    {
     "name": "stdout",
     "output_type": "stream",
     "text": [
      "R2_Score : 0.9070737728392685\n"
     ]
    }
   ],
   "source": [
    "mymodel(dt)"
   ]
  },
  {
   "cell_type": "code",
   "execution_count": 44,
   "id": "083c8ae9",
   "metadata": {},
   "outputs": [
    {
     "name": "stdout",
     "output_type": "stream",
     "text": [
      "R2_Score : 0.9529004643790646\n"
     ]
    }
   ],
   "source": [
    "mymodel(rf)"
   ]
  },
  {
   "cell_type": "code",
   "execution_count": 45,
   "id": "c03debc4",
   "metadata": {},
   "outputs": [
    {
     "name": "stdout",
     "output_type": "stream",
     "text": [
      "R2_Score : 0.9372567415507581\n"
     ]
    }
   ],
   "source": [
    "mymodel(xgb)"
   ]
  },
  {
   "cell_type": "code",
   "execution_count": 46,
   "id": "5e798c79",
   "metadata": {},
   "outputs": [
    {
     "name": "stdout",
     "output_type": "stream",
     "text": [
      "R2_Score : 0.9636185719120883\n"
     ]
    }
   ],
   "source": [
    "mymodel(regressor)"
   ]
  },
  {
   "cell_type": "markdown",
   "id": "2ef37858",
   "metadata": {},
   "source": [
    "# Hyperparameter Tuning"
   ]
  },
  {
   "cell_type": "markdown",
   "id": "626b2cbd",
   "metadata": {},
   "source": [
    "1. GridSearchCV\n",
    "2. Assign hyperparameters\n",
    "3. Fit the model\n",
    "4. Check the best parameters and best score"
   ]
  },
  {
   "cell_type": "code",
   "execution_count": 47,
   "id": "87208d40",
   "metadata": {},
   "outputs": [],
   "source": [
    "GBR = GradientBoostingRegressor()"
   ]
  },
  {
   "cell_type": "code",
   "execution_count": 48,
   "id": "8a9b16c5",
   "metadata": {},
   "outputs": [],
   "source": [
    "parameters = {'learning_rate': [0.01,0.02,0.03,0.04],\n",
    "              'subsample'    : [0.9, 0.5, 0.2, 0.1],\n",
    "              'n_estimators' : [100,500,1000, 1500],\n",
    "              'max_depth'    : [4,6,8,10]\n",
    "             }"
   ]
  },
  {
   "cell_type": "code",
   "execution_count": 49,
   "id": "76ee299f",
   "metadata": {},
   "outputs": [
    {
     "data": {
      "text/plain": [
       "GridSearchCV(cv=2, estimator=GradientBoostingRegressor(), n_jobs=-1,\n",
       "             param_grid={'learning_rate': [0.01, 0.02, 0.03, 0.04],\n",
       "                         'max_depth': [4, 6, 8, 10],\n",
       "                         'n_estimators': [100, 500, 1000, 1500],\n",
       "                         'subsample': [0.9, 0.5, 0.2, 0.1]})"
      ]
     },
     "execution_count": 49,
     "metadata": {},
     "output_type": "execute_result"
    }
   ],
   "source": [
    "grid_GBR = GridSearchCV(estimator=GBR, param_grid = parameters, cv = 2, n_jobs=-1)\n",
    "grid_GBR.fit(xtrain, ytrain)"
   ]
  },
  {
   "cell_type": "code",
   "execution_count": 50,
   "id": "5728a110",
   "metadata": {},
   "outputs": [
    {
     "name": "stdout",
     "output_type": "stream",
     "text": [
      " Results from Grid Search \n",
      "\n",
      " The best estimator across ALL searched params:\n",
      " GradientBoostingRegressor(learning_rate=0.01, max_depth=4, n_estimators=500,\n",
      "                          subsample=0.2)\n",
      "\n",
      " The best score across ALL searched params:\n",
      " 0.6192977092805588\n",
      "\n",
      " The best parameters across ALL searched params:\n",
      " {'learning_rate': 0.01, 'max_depth': 4, 'n_estimators': 500, 'subsample': 0.2}\n"
     ]
    }
   ],
   "source": [
    "print(\" Results from Grid Search \" )\n",
    "print(\"\\n The best estimator across ALL searched params:\\n\",grid_GBR.best_estimator_)\n",
    "print(\"\\n The best score across ALL searched params:\\n\",grid_GBR.best_score_)\n",
    "print(\"\\n The best parameters across ALL searched params:\\n\",grid_GBR.best_params_)"
   ]
  },
  {
   "cell_type": "markdown",
   "id": "b65fcb4d",
   "metadata": {},
   "source": [
    "# Model Evaluation"
   ]
  },
  {
   "cell_type": "code",
   "execution_count": 51,
   "id": "d8d14cd6",
   "metadata": {},
   "outputs": [],
   "source": [
    "from sklearn import metrics\n",
    "import math"
   ]
  },
  {
   "cell_type": "code",
   "execution_count": 68,
   "id": "5277df5b",
   "metadata": {},
   "outputs": [],
   "source": [
    "pred_train = regressor.predict(xtrain) # Predict Train Data\n",
    "pred_test = regressor.predict(xtest) # Predict Test Data"
   ]
  },
  {
   "cell_type": "markdown",
   "id": "f0d9cbda",
   "metadata": {},
   "source": [
    "# Evaluate Train Data"
   ]
  },
  {
   "cell_type": "code",
   "execution_count": 69,
   "id": "23db0e83",
   "metadata": {},
   "outputs": [
    {
     "name": "stdout",
     "output_type": "stream",
     "text": [
      "Train R2_score: 0.9768976212148124\n",
      "Train MSE : 44387870.277777776\n",
      "Train RMSE : 6662.422253038138\n"
     ]
    }
   ],
   "source": [
    "train_r2_score = metrics.r2_score(ytrain, pred_train) # R2_score\n",
    "print(f'Train R2_score: {train_r2_score}')\n",
    "\n",
    "train_mse = metrics.mean_squared_error(ytrain, pred_train) # MSE Score\n",
    "print(f'Train MSE : {train_mse}')\n",
    "\n",
    "train_RMSE = math.sqrt(metrics.mean_squared_error(ytrain, pred_train)) # SQRT MSE Score\n",
    "print(f'Train RMSE : {train_RMSE}')"
   ]
  },
  {
   "cell_type": "markdown",
   "id": "ebefdf7d",
   "metadata": {},
   "source": [
    "Visualization for Actual and Predicted Price in Training Data"
   ]
  },
  {
   "cell_type": "code",
   "execution_count": 54,
   "id": "a639c05d",
   "metadata": {},
   "outputs": [
    {
     "data": {
      "image/png": "[encoded data removed]",
      "text/plain": [
       "<Figure size 1152x648 with 1 Axes>"
      ]
     },
     "metadata": {
      "needs_background": "light"
     },
     "output_type": "display_data"
    }
   ],
   "source": [
    "test = pd.DataFrame({'Predicted Price':pred_train, 'Actual Price':ytrain})\n",
    "fig  = plt.figure(figsize=(16, 9))\n",
    "test = test.reset_index()\n",
    "test = test.drop(['index'],axis=1)\n",
    "plt.plot(test[:50])\n",
    "plt.ylim(0, 260000)\n",
    "plt.legend(['Actual Price','Predicted Price'])\n",
    "plt.title('Actual & Predicted Price')\n",
    "plt.show()"
   ]
  },
  {
   "cell_type": "markdown",
   "id": "dd29c0b1",
   "metadata": {},
   "source": [
    "# Evaluate Test Data"
   ]
  },
  {
   "cell_type": "code",
   "execution_count": 55,
   "id": "2711d056",
   "metadata": {},
   "outputs": [
    {
     "name": "stdout",
     "output_type": "stream",
     "text": [
      "Test R2_score: 0.9636185719120883\n",
      "Test MSE : 75794582.05128205\n",
      "Test RMSE : 8706.008387962996\n"
     ]
    }
   ],
   "source": [
    "test_r2_score = metrics.r2_score(ytest, pred_test) # R2_score\n",
    "print(f'Test R2_score: {test_r2_score}')\n",
    "\n",
    "test_mse = metrics.mean_squared_error(ytest, pred_test) # MSE Score\n",
    "print(f'Test MSE : {test_mse}')\n",
    "\n",
    "test_RMSE = math.sqrt(metrics.mean_squared_error(ytest, pred_test)) # SQRT MSE Score\n",
    "print(f'Test RMSE : {test_RMSE}')"
   ]
  },
  {
   "cell_type": "markdown",
   "id": "2701b7d2",
   "metadata": {},
   "source": [
    "Visualization for Actual and Predicted Price in Testing Data"
   ]
  },
  {
   "cell_type": "code",
   "execution_count": 56,
   "id": "9fd3a726",
   "metadata": {},
   "outputs": [
    {
     "data": {
      "image/png": "[encoded data removed]",
      "text/plain": [
       "<Figure size 1152x648 with 1 Axes>"
      ]
     },
     "metadata": {
      "needs_background": "light"
     },
     "output_type": "display_data"
    }
   ],
   "source": [
    "test = pd.DataFrame({'Predicted Price':pred_test, 'Actual Price':ytest})\n",
    "fig= plt.figure(figsize=(16, 9))\n",
    "test = test.reset_index()\n",
    "test = test.drop(['index'],axis=1)\n",
    "plt.plot(test[:50])\n",
    "plt.ylim(0, 260000)\n",
    "plt.legend(['Actual Price','Predicted Price'])\n",
    "plt.title('Actual & Predicted Price')\n",
    "plt.show()"
   ]
  },
  {
   "cell_type": "markdown",
   "id": "beaa8105",
   "metadata": {},
   "source": [
    "# Prediction"
   ]
  },
  {
   "cell_type": "markdown",
   "id": "0f6e0020",
   "metadata": {},
   "source": [
    "Output actual data with prediction data into csv file."
   ]
  },
  {
   "cell_type": "code",
   "execution_count": 57,
   "id": "f59aa21f",
   "metadata": {},
   "outputs": [],
   "source": [
    "train_output = pd.DataFrame({'Train Actual Price': ytrain,'Train Predicted Price ': pred_train})\n",
    "\n",
    "train_output.to_csv('Train Prediction.csv', index=False)"
   ]
  },
  {
   "cell_type": "markdown",
   "id": "4abf61ce",
   "metadata": {},
   "source": [
    "# Train Output Prediction"
   ]
  },
  {
   "cell_type": "code",
   "execution_count": 58,
   "id": "85137251",
   "metadata": {},
   "outputs": [
    {
     "data": {
      "text/html": [
       "<div>\n",
       "<style scoped>\n",
       "    .dataframe tbody tr th:only-of-type {\n",
       "        vertical-align: middle;\n",
       "    }\n",
       "\n",
       "    .dataframe tbody tr th {\n",
       "        vertical-align: top;\n",
       "    }\n",
       "\n",
       "    .dataframe thead th {\n",
       "        text-align: right;\n",
       "    }\n",
       "</style>\n",
       "<table border=\"1\" class=\"dataframe\">\n",
       "  <thead>\n",
       "    <tr style=\"text-align: right;\">\n",
       "      <th></th>\n",
       "      <th>Train Actual Price</th>\n",
       "      <th>Train Predicted Price</th>\n",
       "    </tr>\n",
       "  </thead>\n",
       "  <tbody>\n",
       "    <tr>\n",
       "      <th>0</th>\n",
       "      <td>149000.0</td>\n",
       "      <td>144690.0</td>\n",
       "    </tr>\n",
       "    <tr>\n",
       "      <th>1</th>\n",
       "      <td>99000.0</td>\n",
       "      <td>97490.0</td>\n",
       "    </tr>\n",
       "    <tr>\n",
       "      <th>2</th>\n",
       "      <td>49000.0</td>\n",
       "      <td>54660.0</td>\n",
       "    </tr>\n",
       "    <tr>\n",
       "      <th>3</th>\n",
       "      <td>72000.0</td>\n",
       "      <td>73440.0</td>\n",
       "    </tr>\n",
       "    <tr>\n",
       "      <th>4</th>\n",
       "      <td>105000.0</td>\n",
       "      <td>96620.0</td>\n",
       "    </tr>\n",
       "    <tr>\n",
       "      <th>5</th>\n",
       "      <td>96000.0</td>\n",
       "      <td>97150.0</td>\n",
       "    </tr>\n",
       "    <tr>\n",
       "      <th>6</th>\n",
       "      <td>70000.0</td>\n",
       "      <td>72610.0</td>\n",
       "    </tr>\n",
       "    <tr>\n",
       "      <th>7</th>\n",
       "      <td>69000.0</td>\n",
       "      <td>67760.0</td>\n",
       "    </tr>\n",
       "    <tr>\n",
       "      <th>8</th>\n",
       "      <td>60000.0</td>\n",
       "      <td>73640.0</td>\n",
       "    </tr>\n",
       "    <tr>\n",
       "      <th>9</th>\n",
       "      <td>76000.0</td>\n",
       "      <td>73480.0</td>\n",
       "    </tr>\n",
       "  </tbody>\n",
       "</table>\n",
       "</div>"
      ],
      "text/plain": [
       "   Train Actual Price  Train Predicted Price \n",
       "0            149000.0                144690.0\n",
       "1             99000.0                 97490.0\n",
       "2             49000.0                 54660.0\n",
       "3             72000.0                 73440.0\n",
       "4            105000.0                 96620.0\n",
       "5             96000.0                 97150.0\n",
       "6             70000.0                 72610.0\n",
       "7             69000.0                 67760.0\n",
       "8             60000.0                 73640.0\n",
       "9             76000.0                 73480.0"
      ]
     },
     "execution_count": 58,
     "metadata": {},
     "output_type": "execute_result"
    }
   ],
   "source": [
    "train_prediction_output = pd.read_csv('./Train Prediction.csv')\n",
    "train_prediction_output.head(10)"
   ]
  },
  {
   "cell_type": "code",
   "execution_count": 59,
   "id": "569225f4",
   "metadata": {},
   "outputs": [],
   "source": [
    "test_output = pd.DataFrame({'Test Actual Price': ytest,'Test Predicted Price ': pred_test})\n",
    "\n",
    "test_output.to_csv('Test Prediction.csv', index=False)"
   ]
  },
  {
   "cell_type": "markdown",
   "id": "02bf589b",
   "metadata": {},
   "source": [
    "# Test Output Prediction"
   ]
  },
  {
   "cell_type": "code",
   "execution_count": 60,
   "id": "7bc0a5c8",
   "metadata": {},
   "outputs": [
    {
     "data": {
      "text/html": [
       "<div>\n",
       "<style scoped>\n",
       "    .dataframe tbody tr th:only-of-type {\n",
       "        vertical-align: middle;\n",
       "    }\n",
       "\n",
       "    .dataframe tbody tr th {\n",
       "        vertical-align: top;\n",
       "    }\n",
       "\n",
       "    .dataframe thead th {\n",
       "        text-align: right;\n",
       "    }\n",
       "</style>\n",
       "<table border=\"1\" class=\"dataframe\">\n",
       "  <thead>\n",
       "    <tr style=\"text-align: right;\">\n",
       "      <th></th>\n",
       "      <th>Test Actual Price</th>\n",
       "      <th>Test Predicted Price</th>\n",
       "    </tr>\n",
       "  </thead>\n",
       "  <tbody>\n",
       "    <tr>\n",
       "      <th>0</th>\n",
       "      <td>99000.0</td>\n",
       "      <td>89680.0</td>\n",
       "    </tr>\n",
       "    <tr>\n",
       "      <th>1</th>\n",
       "      <td>39000.0</td>\n",
       "      <td>36260.0</td>\n",
       "    </tr>\n",
       "    <tr>\n",
       "      <th>2</th>\n",
       "      <td>105000.0</td>\n",
       "      <td>94725.0</td>\n",
       "    </tr>\n",
       "    <tr>\n",
       "      <th>3</th>\n",
       "      <td>78000.0</td>\n",
       "      <td>70970.0</td>\n",
       "    </tr>\n",
       "    <tr>\n",
       "      <th>4</th>\n",
       "      <td>23500.0</td>\n",
       "      <td>42215.0</td>\n",
       "    </tr>\n",
       "    <tr>\n",
       "      <th>5</th>\n",
       "      <td>140000.0</td>\n",
       "      <td>154850.0</td>\n",
       "    </tr>\n",
       "    <tr>\n",
       "      <th>6</th>\n",
       "      <td>72000.0</td>\n",
       "      <td>77345.0</td>\n",
       "    </tr>\n",
       "    <tr>\n",
       "      <th>7</th>\n",
       "      <td>126500.0</td>\n",
       "      <td>123190.0</td>\n",
       "    </tr>\n",
       "    <tr>\n",
       "      <th>8</th>\n",
       "      <td>188000.0</td>\n",
       "      <td>204800.0</td>\n",
       "    </tr>\n",
       "    <tr>\n",
       "      <th>9</th>\n",
       "      <td>149000.0</td>\n",
       "      <td>147335.0</td>\n",
       "    </tr>\n",
       "  </tbody>\n",
       "</table>\n",
       "</div>"
      ],
      "text/plain": [
       "   Test Actual Price  Test Predicted Price \n",
       "0            99000.0                89680.0\n",
       "1            39000.0                36260.0\n",
       "2           105000.0                94725.0\n",
       "3            78000.0                70970.0\n",
       "4            23500.0                42215.0\n",
       "5           140000.0               154850.0\n",
       "6            72000.0                77345.0\n",
       "7           126500.0               123190.0\n",
       "8           188000.0               204800.0\n",
       "9           149000.0               147335.0"
      ]
     },
     "execution_count": 60,
     "metadata": {},
     "output_type": "execute_result"
    }
   ],
   "source": [
    "test_prediction_output = pd.read_csv('./Test Prediction.csv')\n",
    "test_prediction_output.head(10)"
   ]
  },
  {
   "cell_type": "markdown",
   "id": "e996f0c4",
   "metadata": {},
   "source": [
    "# Saving the model and reusing it again"
   ]
  },
  {
   "cell_type": "code",
   "execution_count": 71,
   "id": "4cbe48d9",
   "metadata": {},
   "outputs": [],
   "source": [
    "import pickle"
   ]
  },
  {
   "cell_type": "code",
   "execution_count": 72,
   "id": "584c5cda",
   "metadata": {},
   "outputs": [
    {
     "name": "stdout",
     "output_type": "stream",
     "text": [
      "0.9636185719120883\n"
     ]
    }
   ],
   "source": [
    "pickle_out = open(\"pizza.pkl\",\"wb\")\n",
    "pickle.dump(regressor, pickle_out)\n",
    "\n",
    "loaded_model = pickle.load(open(\"pizza.pkl\", \"rb\"))\n",
    "y_pred = loaded_model.score(xtest,ytest)\n",
    "\n",
    "print(y_pred)"
   ]
  },
  {
   "cell_type": "code",
   "execution_count": null,
   "id": "f53f4031",
   "metadata": {},
   "outputs": [],
   "source": []
  }
 ],
 "metadata": {
  "kernelspec": {
   "display_name": "Python 3",
   "language": "python",
   "name": "python3"
  },
  "language_info": {
   "codemirror_mode": {
    "name": "ipython",
    "version": 3
   },
   "file_extension": ".py",
   "mimetype": "text/x-python",
   "name": "python",
   "nbconvert_exporter": "python",
   "pygments_lexer": "ipython3",
   "version": "3.8.8"
  }
 },
 "nbformat": 4,
 "nbformat_minor": 5
}
